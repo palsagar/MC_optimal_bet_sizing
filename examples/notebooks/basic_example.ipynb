{
 "cells": [
  {
   "cell_type": "markdown",
   "metadata": {},
   "source": [
    "### Demonstration of Monte Carlo Simulator "
   ]
  },
  {
   "cell_type": "markdown",
   "metadata": {},
   "source": [
    "##### Import library"
   ]
  },
  {
   "cell_type": "code",
   "execution_count": null,
   "metadata": {},
   "outputs": [],
   "source": [
    "import sys\n",
    "from os import getcwd , path\n",
    "\n",
    "# Calculate the path to the directory two levels up\n",
    "parent_directory = path.abspath(path.join(path.dirname(getcwd()),'..'))\n",
    "\n",
    "# Append the module's directory to sys.path if it's not already included\n",
    "module_directory = path.join(parent_directory, 'modules')\n",
    "if module_directory not in sys.path:\n",
    "    sys.path.insert(0, module_directory)\n",
    "\n",
    "# import required classes from modules folder\n",
    "from base import PriceData , MonteCarloSimulator"
   ]
  },
  {
   "cell_type": "markdown",
   "metadata": {},
   "source": [
    "##### Load Nifty price data, plot time series and sequence of returns"
   ]
  },
  {
   "cell_type": "code",
   "execution_count": null,
   "metadata": {},
   "outputs": [],
   "source": [
    "nifty = PriceData(instrument=\"^NSEI\", start_date=\"2007-01-01\", end_date=\"2023-11-01\")\n",
    "nifty.plot()"
   ]
  },
  {
   "cell_type": "markdown",
   "metadata": {},
   "source": [
    "##### Instantiate Monte Carlo Simulator object for Nifty price series"
   ]
  },
  {
   "cell_type": "code",
   "execution_count": null,
   "metadata": {},
   "outputs": [],
   "source": [
    "nifty_sim = MonteCarloSimulator(nifty)\n",
    "nifty_sim"
   ]
  },
  {
   "cell_type": "markdown",
   "metadata": {},
   "source": [
    "##### Simulate MC paths and plot final results"
   ]
  },
  {
   "cell_type": "code",
   "execution_count": null,
   "metadata": {},
   "outputs": [],
   "source": [
    "FRACTION = 0.1\n",
    "NPATHS = 10000\n",
    "NPERIODS = int(52*5)\n",
    "holding_reward_func = lambda x: 1.0 + (0.04/52.0)\n",
    "\n",
    "nifty_sim(FRACTION, holding_reward_func, n_paths=NPATHS, n_periods=NPERIODS)\n",
    "nifty_sim.plot_paths()"
   ]
  },
  {
   "cell_type": "markdown",
   "metadata": {},
   "source": [
    "##### Compute CAGR and spread of final returns"
   ]
  },
  {
   "cell_type": "code",
   "execution_count": null,
   "metadata": {},
   "outputs": [],
   "source": [
    "cagr = lambda x,y: f\"Median CAGR = {((x**(1.0/y)) - 1.0)*100.0:.2f}%\"  \n",
    "spread = lambda x,y: f\"Spread (Std/Median) = {(x / y)*100.0:.1f}%\"\n",
    "print( cagr(nifty_sim.compute_median_return(),5.0) )\n",
    "print( spread(nifty_sim.compute_std_return() , nifty_sim.compute_median_return()))"
   ]
  }
 ],
 "metadata": {
  "interpreter": {
   "hash": "1991046a0dbffb92f246180e1f95eb27249fa72ffeb63264d3422e4996a4769e"
  },
  "kernelspec": {
   "display_name": "Python 3.9.16 64-bit ('random': conda)",
   "name": "python3"
  },
  "language_info": {
   "codemirror_mode": {
    "name": "ipython",
    "version": 3
   },
   "file_extension": ".py",
   "mimetype": "text/x-python",
   "name": "python",
   "nbconvert_exporter": "python",
   "pygments_lexer": "ipython3",
   "version": "3.9.16"
  }
 },
 "nbformat": 4,
 "nbformat_minor": 2
}
