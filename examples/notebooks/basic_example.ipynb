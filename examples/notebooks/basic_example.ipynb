{
 "cells": [
  {
   "cell_type": "markdown",
   "metadata": {},
   "source": [
    "### Demonstration of Monte Carlo Simulator "
   ]
  },
  {
   "cell_type": "markdown",
   "metadata": {},
   "source": [
    "#### Import library"
   ]
  },
  {
   "cell_type": "code",
   "execution_count": null,
   "metadata": {},
   "outputs": [],
   "source": [
    "import sys\n",
    "from os import getcwd , path\n",
    "\n",
    "# Calculate the path to the directory two levels up\n",
    "parent_directory = path.abspath(path.join(path.dirname(getcwd()),'..'))\n",
    "\n",
    "# Append the module's directory to sys.path if it's not already included\n",
    "module_directory = path.join(parent_directory, 'modules')\n",
    "if module_directory not in sys.path:\n",
    "    sys.path.insert(0, module_directory)\n",
    "\n",
    "# import required classes from modules folder\n",
    "from base import PriceData , MonteCarloSimulator"
   ]
  },
  {
   "cell_type": "markdown",
   "metadata": {},
   "source": [
    "#### Load Nifty price data, plot time series and sequence of returns"
   ]
  },
  {
   "cell_type": "code",
   "execution_count": null,
   "metadata": {},
   "outputs": [],
   "source": [
    "# instantiate object that holds historic price data with instrument name, starting and ending dates\n",
    "# daily price data resampled to monthly timeframe, with closing price on last day of month used\n",
    "nifty = PriceData(instrument=\"^NSEI\", start_date=\"2007-01-01\", end_date=\"2023-11-01\", re_sample=\"M\")\n",
    "# use 'plot' method of object to plot historic price and returns evolution\n",
    "nifty.plot()"
   ]
  },
  {
   "cell_type": "markdown",
   "metadata": {},
   "source": [
    "#### Instantiate Monte Carlo Simulator object for Nifty price series"
   ]
  },
  {
   "cell_type": "code",
   "execution_count": null,
   "metadata": {},
   "outputs": [],
   "source": [
    "# simulator object can be created directly from the PriceData object\n",
    "nifty_sim = MonteCarloSimulator(nifty)"
   ]
  },
  {
   "cell_type": "markdown",
   "metadata": {},
   "source": [
    "#### Simulate MC paths and plot final results"
   ]
  },
  {
   "cell_type": "code",
   "execution_count": null,
   "metadata": {},
   "outputs": [],
   "source": [
    "# fraction of total corpus to invest in primary instrument\n",
    "# implies re-balancing between primary and secondary instrument at beginning of each period\n",
    "FRACTION = 0.8\n",
    "# number of paths to simulate for Monte Carlo simulation\n",
    "NPATHS = 10000\n",
    "# number of periods to simulate : 5 years * 12 months/year => 5 years of total time \n",
    "NPERIODS = int(12*5)\n",
    "\n",
    "# function : returns of primary instrument -> return of secondary instrument \n",
    "# e.g. insurance contract can have 10x return if primary instrument goes down by 20% \n",
    "# e.g. in this case, secondary instrument is a fixed income instrument with annual return of 7% \n",
    "holding_reward_func = lambda x: 1.0 + (0.07/12.0)\n",
    "\n",
    "# the simulator object is callable, and it carries out a simple MC simulation\n",
    "# follows Geometric Brownian Motion (random walk of log returns), autocorrelation is delta function \n",
    "nifty_sim(FRACTION, holding_reward_func, n_paths=NPATHS, n_periods=NPERIODS)\n",
    "\n",
    "# once simulation is done, all paths and final distribution of returns are plotted \n",
    "nifty_sim.plot_paths()"
   ]
  },
  {
   "cell_type": "markdown",
   "metadata": {},
   "source": [
    "##### Compute CAGR and spread of final returns"
   ]
  },
  {
   "cell_type": "code",
   "execution_count": null,
   "metadata": {},
   "outputs": [],
   "source": [
    "# helper function to convert final returns to CAGR in percentage\n",
    "cagr = lambda x,y: f\"Median CAGR = {((x**(1.0/y)) - 1.0)*100.0:.2f}%\"  \n",
    "\n",
    "# helper function to compute \"spread\" of final returns distrubtion\n",
    "# simple choice is expressing standard deviation in percentage of mean \n",
    "spread = lambda x,y: f\"Spread (Std/Median) = {(x / y)*100.0:.1f}%\"\n",
    "\n",
    "# uses methods of simulator object to get statitical properties from end of simulation period distribution\n",
    "print( cagr(nifty_sim.compute_median_return(),5.0) )\n",
    "print( spread(nifty_sim.compute_std_return() , nifty_sim.compute_median_return()))"
   ]
  },
  {
   "cell_type": "markdown",
   "metadata": {},
   "source": [
    "#### Let's try a different fraction : 20% primary instrument , 80% fixed return instrument"
   ]
  },
  {
   "cell_type": "code",
   "execution_count": null,
   "metadata": {},
   "outputs": [],
   "source": [
    "# fraction of total corpus to invest in primary instrument\n",
    "# implies re-balancing between primary and secondary instrument at beginning of each period\n",
    "FRACTION = 0.2\n",
    "# number of paths to simulate for Monte Carlo simulation\n",
    "NPATHS = 10000\n",
    "# number of periods to simulate : 5 years * 12 months/year => 5 years of total time \n",
    "NPERIODS = int(12*5)\n",
    "\n",
    "# function : returns of primary instrument -> return of secondary instrument \n",
    "# e.g. insurance contract can have 10x return if primary instrument goes down by 20% \n",
    "# e.g. in this case, secondary instrument is a fixed income instrument with annual return of 7% \n",
    "holding_reward_func = lambda x: 1.0 + (0.07/12.0)\n",
    "\n",
    "# the simulator object is callable, and it carries out a simple MC simulation\n",
    "# follows Geometric Brownian Motion (random walk of log returns), autocorrelation is delta function \n",
    "nifty_sim(FRACTION, holding_reward_func, n_paths=NPATHS, n_periods=NPERIODS)\n",
    "\n",
    "# once simulation is done, all paths and final distribution of returns are plotted \n",
    "nifty_sim.plot_paths()"
   ]
  },
  {
   "cell_type": "markdown",
   "metadata": {},
   "source": [
    "#### Let's compare the end of period returns in this case ! "
   ]
  },
  {
   "cell_type": "code",
   "execution_count": null,
   "metadata": {},
   "outputs": [],
   "source": [
    "# uses methods of simulator object to get statitical properties from end of simulation period distribution\n",
    "print( cagr(nifty_sim.compute_median_return(),5.0) )\n",
    "print( spread(nifty_sim.compute_std_return() , nifty_sim.compute_median_return()))"
   ]
  },
  {
   "cell_type": "markdown",
   "metadata": {},
   "source": [
    "#### Some takeaways\n",
    "- Although the $80:20$ (nifty index : fixed income) bet sizing has slightly higher median returns (CAGR of $8.9\\%$ instead of $7.8\\%$) than the $20:80$ case, the returns distribution has significantly higher spread ($42\\%$ vs $9\\%$).\n",
    "\n",
    "- A starker constrast appears when looking at the worst outcomes i.e. bottom 5 percentile paths, where the $80:20$ case loses $20\\%$ at the end of 5 years, compared to the gain of $20\\%$ for the $20:80$ case. \n",
    "\n",
    "- Optimal \"bet\" size is not quite obvious, trade-offs exist i.e. slightly higher median CAGR comes at the cost of significantly worse spread as well as worst case outcomes (bottom 5 percentile paths). "
   ]
  }
 ],
 "metadata": {
  "interpreter": {
   "hash": "1991046a0dbffb92f246180e1f95eb27249fa72ffeb63264d3422e4996a4769e"
  },
  "kernelspec": {
   "display_name": "Python 3.9.16 64-bit ('random': conda)",
   "name": "python3"
  },
  "language_info": {
   "codemirror_mode": {
    "name": "ipython",
    "version": 3
   },
   "file_extension": ".py",
   "mimetype": "text/x-python",
   "name": "python",
   "nbconvert_exporter": "python",
   "pygments_lexer": "ipython3",
   "version": "3.9.16"
  }
 },
 "nbformat": 4,
 "nbformat_minor": 2
}
